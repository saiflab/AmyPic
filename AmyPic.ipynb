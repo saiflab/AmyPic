{
  "nbformat": 4,
  "nbformat_minor": 0,
  "metadata": {
    "colab": {
      "provenance": [],
      "gpuType": "T4"
    },
    "kernelspec": {
      "name": "python3",
      "display_name": "Python 3"
    },
    "language_info": {
      "name": "python"
    },
    "accelerator": "GPU"
  },
  "cells": [
    {
      "cell_type": "code",
      "execution_count": null,
      "metadata": {
        "id": "xbaRdggl2X2M"
      },
      "outputs": [],
      "source": [
        "# Install Java if it’s not already available in your Colab environment\n",
        "!apt-get install -y openjdk-8-jdk-headless > /dev/null 2>&1\n"
      ]
    },
    {
      "cell_type": "code",
      "source": [
        "# @title Import Libraries\n",
        "# Import necessary libraries\n",
        "import pandas as pd\n",
        "import numpy as np\n",
        "from PIL import Image\n",
        "import subprocess\n",
        "import os\n",
        "import base64\n",
        "import pickle\n",
        "import seaborn as sns\n",
        "import matplotlib.pyplot as plt\n",
        "from google.colab import files\n",
        "!pip install gdown"
      ],
      "metadata": {
        "cellView": "form",
        "id": "81Qzt5R1k88x"
      },
      "execution_count": null,
      "outputs": []
    },
    {
      "cell_type": "code",
      "source": [
        "# @title Install Required Files {\"display-mode\":\"form\"}\n",
        "# Install git\n",
        "!git clone https://github.com/saiflab/AmyPic.git\n",
        "\n",
        "# Replace with your actual file ID\n",
        "file_id = \"162s4ZorHK4oQnktlyQ_K2qoFvWOW9pKO\"\n",
        "file_name = \"APP_Model.pkl\"\n",
        "\n",
        "# Download using gdown\n",
        "import gdown\n",
        "gdown.download(f\"https://drive.google.com/uc?id={file_id}\", file_name, quiet=False)\n"
      ],
      "metadata": {
        "id": "0yBmJKLKtx8H"
      },
      "execution_count": null,
      "outputs": []
    },
    {
      "cell_type": "code",
      "source": [
        "# @title Molecular descriptor calculator\n",
        "# Display the app title and information\n",
        "print(\"\"\"\n",
        "# Amyloid-Beta Precursor Protein pIC50 value Identification Tools\n",
        "### Amyloid-Beta Precursor Protein\n",
        "This notebook allows you to predict the bioactivity towards inhibiting the Human Amyloid-Beta Precursor Protein. APP is a drug target for Alzheimer's disease.\n",
        "\n",
        "#### Some Important Information:\n",
        "- Fingerprints used: PubChem Fingerprints\n",
        "- Model Used: Random Forest Regression\n",
        "- Descriptor calculated using [PaDEL-Descriptor](http://www.yapcwsoft.com/dd/padeldescriptor/)\n",
        "\"\"\")\n",
        "\n",
        "# Molecular descriptor calculator\n",
        "def desc_calc():\n",
        "    # Performs the descriptor calculation using PaDEL-Descriptor\n",
        "    bashCommand = \"java -Xms2G -Xmx2G -Djava.awt.headless=true -jar ./PaDEL-Descriptor/PaDEL-Descriptor.jar -removesalt -standardizenitro -fingerprints -descriptortypes \" \\\n",
        "                  \"./PaDEL-Descriptor/PubchemFingerprinter.xml -dir ./ -file descriptors_output.csv\"\n",
        "    process = subprocess.Popen(bashCommand.split(), stdout=subprocess.PIPE)\n",
        "    output, error = process.communicate()\n",
        "    os.remove('molecule.smi')\n",
        "\n",
        "# Model building and prediction\n",
        "def build_model(input_data):\n",
        "    # Load the pre-trained model\n",
        "    with open('APP_Model.pkl', 'rb') as model_file:\n",
        "        model = pickle.load(model_file)\n",
        "\n",
        "    # Predict using the model\n",
        "    predictions = model.predict(input_data)\n",
        "    prediction_output = pd.Series(predictions, name='pIC50')\n",
        "    molecule_name = pd.Series(load_data[1], name='molecule_name')\n",
        "    df = pd.concat([molecule_name, prediction_output], axis=1)\n",
        "\n",
        "    print(\"\\n**Prediction Output**\")\n",
        "    print(df)\n",
        "\n",
        "      # Save the output to a CSV file\n",
        "    df.to_csv('molecule_predictions.csv', index=False)\n",
        "    print(\"Predictions saved to 'molecule_predictions.csv'.\")\n",
        "\n",
        "    # Plot the predictions\n",
        "    plt.figure(figsize=(8, 6))\n",
        "    ax = sns.barplot(y=df['molecule_name'], x=df['pIC50'], errwidth=0)\n",
        "    plt.xlabel(\"pIC50 Values\", size=12, fontstyle='normal', weight=600)\n",
        "    plt.ylabel(\"Molecule Name\", size=12, fontstyle='normal', weight=600)\n",
        "    plt.title(\"pIC50 value of various Molecules\", fontstyle='normal', weight=600)\n",
        "    plt.show()\n",
        "\n"
      ],
      "metadata": {
        "id": "gPCR7udo4SM3",
        "cellView": "form"
      },
      "execution_count": null,
      "outputs": []
    },
    {
      "cell_type": "code",
      "source": [
        "# @title Load File & Make Predictions\n",
        "# Load the uploaded file\n",
        "print(\"Please upload your input .txt file (containing SMILES notations):\")\n",
        "uploaded_file = files.upload()\n",
        "\n",
        "# Load the uploaded file\n",
        "for filename in uploaded_file.keys():\n",
        "    load_data = pd.read_table(filename, sep=' ', header=None)\n",
        "    load_data.to_csv('molecule.smi', sep='\\t', header=False, index=False)\n",
        "    print(\"\\n**Original Input Data**\")\n",
        "    print(load_data)\n",
        "\n",
        "# Check if there's a second column for molecule names, else auto-generate names\n",
        "try:\n",
        "    molecule_name = pd.Series(load_data[1], name='molecule_name')\n",
        "except KeyError:\n",
        "    print(\"No molecule name column found. Generating default names.\")\n",
        "    molecule_name = pd.Series([f\"Molecule_{i}\" for i in range(len(load_data))], name='molecule_name')\n",
        "\n",
        "# Calculate descriptors\n",
        "print(\"\\nCalculating descriptors...\")\n",
        "desc_calc()\n",
        "\n",
        "# Load the calculated descriptors\n",
        "desc = pd.read_csv('/content/AmyPic/descriptors_output.csv')\n",
        "print(\"\\n**Calculated Molecular Descriptors**\")\n",
        "print(desc)\n",
        "print(\"Shape:\", desc.shape)\n",
        "\n",
        "# Load descriptor list used in the previously built model\n",
        "Xlist = list(pd.read_csv('/content/AmyPic/descriptor_list.csv').columns)\n",
        "desc_subset = desc[Xlist]\n",
        "print(\"\\n**Subset of Descriptors from Previously Built Model**\")\n",
        "print(desc_subset)\n",
        "print(\"Shape:\", desc_subset.shape)\n",
        "\n",
        "# Apply the trained model to make predictions on query compounds\n",
        "build_model(desc_subset)\n"
      ],
      "metadata": {
        "id": "T2biZ8XS4oBa",
        "cellView": "form"
      },
      "execution_count": null,
      "outputs": []
    }
  ]
}